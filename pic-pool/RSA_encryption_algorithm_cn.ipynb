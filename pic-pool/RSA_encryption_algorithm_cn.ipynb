{
 "cells": [
  {
   "cell_type": "markdown",
   "source": [
    "# RSA秘钥算法"
   ],
   "metadata": {
    "collapsed": false
   }
  },
  {
   "cell_type": "markdown",
   "source": [
    "了解 Shor 算法的一个重要前提是了解 RSA 密钥算法，下面我们就来具体介绍一下 RSA 密钥算法"
   ],
   "metadata": {
    "collapsed": false
   }
  },
  {
   "cell_type": "markdown",
   "source": [
    "## 1 加密算法"
   ],
   "metadata": {
    "collapsed": false
   }
  },
  {
   "cell_type": "markdown",
   "source": [
    "### 1.1 什么是加密算法？"
   ],
   "metadata": {
    "collapsed": false
   }
  },
  {
   "cell_type": "markdown",
   "source": [
    "  现代互联网传输信息时，可能出现信息被截获的情况，倘若不进行任何处理就会造成信息泄露，带来不必要的损失与灾难。因此我们需要对信息进行加密，加密算法就应运而生了。通过某种特定的算法，将原有的数据信息改变，让没有密钥的未授权用户即使获取了数据也无法知晓其内容与意义，这就是加密的过程。对于授权用户，由于他们有解密的方法（也就是密钥），因此可以通过解密数据获取原来信息的内容，实现有保护性的信息传输。"
   ],
   "metadata": {
    "collapsed": false
   }
  },
  {
   "cell_type": "markdown",
   "source": [
    "### 1.2 明文、密文和秘钥"
   ],
   "metadata": {
    "collapsed": false
   }
  },
  {
   "cell_type": "markdown",
   "source": [
    "我们称尚未加密的数据为明文，也就是信息本身，通过某种算法加密之后的数据为密文。\n",
    "加密的过程是对明文应用密钥使其变为密文。\n",
    "解密的过程是用密钥解密密文使其变为明文。"
   ],
   "metadata": {
    "collapsed": false
   }
  },
  {
   "cell_type": "markdown",
   "source": [
    "### 1.3 对称与非对称加密算法"
   ],
   "metadata": {
    "collapsed": false
   }
  },
  {
   "cell_type": "markdown",
   "source": [
    "#### 1.3.1 对称加密算法"
   ],
   "metadata": {
    "collapsed": false
   }
  },
  {
   "cell_type": "markdown",
   "source": [
    "对称加密算法指的是发送方与接收方共享同一个密钥的加密算法。\n",
    "发送方首先将明文用密钥处理转变为密文，再将密文和密钥一起发送给接收方，接收方用接收到的相同密钥进行解密处理，将密文转变为明文，这就是一整个对称加密的过程。\n",
    "对称加密算法的最大优势在于加/解密速度快，适用于大数据量信息加密。但其有一个显著的缺点是密钥管理困难，也就是发送密钥的过程倘若直接进行公网传输，那么很大概率别人也可以获取公钥的信息，从而实现第三方解密造成信息被盗取。如果不使用公网进行传输，那么需要占用的资源会进一步上升，也需要对密钥再进行二次加密的操作。\n",
    "常见的对称加密算法有 AES、DES、Blowfish 等。\n",
    "整个对称加密的核心就在于只有一把密钥。"
   ],
   "metadata": {
    "collapsed": false
   }
  },
  {
   "cell_type": "markdown",
   "source": [
    "#### 1.3.2 非对称加密算法"
   ],
   "metadata": {
    "collapsed": false
   }
  },
  {
   "cell_type": "markdown",
   "source": [
    "非对称加密算法指的是发送方拥有一对密钥，但只给接收方发送其中一个的加密算法。\n",
    "首先发送方拥有两个密钥，称为公钥和私钥：如果用公钥进行加密，那么只有私钥可以解密，如果用私钥加密，那么只有公钥可以解密。因此接收方首先生成一对密钥，将其中一个作为公钥发给发送方。发送方用该公钥对要加密的信息进行加密处理，将密文返还给接收方，接收方再利用自己已有的私钥进行解密，读取所传输的信息。\n",
    "非对称加密算法的最大优势便在于公钥的易于管理，即使通过公网传输，被第三方获取公钥的信息，由于没有密钥，第三方也无法进行信息的窃取，从而保障信息传输的安全性。但由于加/解密需要一对密钥，因此在大数据信息的加解密上相比对称加密算法需要更长时间。\n",
    "最有名的非对称加密算法当属 RSA 了，也就是本文提到的核心。\n",
    "非对称加密的过程一共拥有两把密钥。"
   ],
   "metadata": {
    "collapsed": false
   }
  },
  {
   "cell_type": "markdown",
   "source": [
    "## 2 RSA密钥算法过程"
   ],
   "metadata": {
    "collapsed": false
   }
  },
  {
   "cell_type": "markdown",
   "source": [
    "### 2.1 算法背景"
   ],
   "metadata": {
    "collapsed": false
   }
  },
  {
   "cell_type": "markdown",
   "source": [
    "RSA密钥算法基于一个重要的数论结论：一个大数的质因数分解问题是困难的。我们知道给定两个素数，想要得出他们的积是简单的，但是通过积找出这两个素数则不然。目前尚未有高效的经典算法能够快速实现大数的质因数分解。"
   ],
   "metadata": {
    "collapsed": false
   }
  },
  {
   "cell_type": "markdown",
   "source": [
    "### 2.2 公钥和密钥的生成"
   ],
   "metadata": {
    "collapsed": false
   }
  },
  {
   "cell_type": "markdown",
   "source": [
    "RSA密钥算法由两个密钥，即公钥和私钥组成：\n",
    "&emsp;&emsp;1）准备两个非常大的素数 $p$ 和 $q$（位数越多越难破解）;\n",
    "&emsp;&emsp;2）利用字符串模拟计算大素数 $p$ 和 $q$ 的乘积 $n=pq$ ;\n",
    "&emsp;&emsp;3）同样方法计算 $m=(p-1)(q-1)$ ，这里的 $m$ 为 $n$ 的欧拉函数（见补充说明1）;\n",
    "&emsp;&emsp;4）找到一个数 $e$ ，满足 $gcd(e,m)=1$ （即 $e$ 和 $m$ 互素）;\n",
    "&emsp;&emsp;5）计算 $e$ 在模 $m$ 域上的逆元 $d$（即满足 $ed mod m \\equiv 1$ ）;\n",
    "&emsp;&emsp;6）至此，公钥和私钥生成完毕：$(n,e)$ 为公钥，$(n,d)$ 为私钥;\n",
    "\n",
    "&emsp;&emsp;补充说明1：欧拉函数 $\\varphi (m)$，是指小于 $n$ 的正整数中与 $n$ 互质的数的数目。有如下引理：\n",
    "$$\n",
    "\\varphi (m)=m\\prod_{p|m，p为质数}^{} (1-\\frac{1}{p} )   \\ \\ \\ \\ \\tag{1}\n",
    "$$\n",
    "&emsp;&emsp;这个定理利用容斥原理是易于得到的，因此 $m=(p-1)(q-1)$ 是 $n$ 的欧拉函数就证明了。"
   ],
   "metadata": {
    "collapsed": false
   }
  },
  {
   "cell_type": "markdown",
   "source": [
    "### 2.3 公钥加密明文"
   ],
   "metadata": {
    "collapsed": false
   }
  },
  {
   "cell_type": "markdown",
   "source": [
    "对于明文 $x$ ，用公钥 $(n,e)$ 对 $x$ 进行加密的过程就是将 $x$ 转换成数字(字符串取其 ASCII 码或者 Unicode 码)，然后通过对幂取模计算出 $y$ ， $y$ 就是密文：\n",
    "$$\n",
    "y \\ \\equiv\\  x^e \\ mod\\  n \\ \\ \\ \\ \\tag{2}\n",
    "$$"
   ],
   "metadata": {
    "collapsed": false
   }
  },
  {
   "cell_type": "markdown",
   "source": [
    "### 2.4 密钥解密密文"
   ],
   "metadata": {
    "collapsed": false
   }
  },
  {
   "cell_type": "markdown",
   "source": [
    "对于密文 $y$ ，用私钥 $(n,d)$ 解密 $y$ 的过程同样是计算幂取模:\n",
    "$$\n",
    "x \\ \\equiv \\ y^d \\ mod \\ n \\ \\ \\ \\ \\tag{3}\n",
    "$$"
   ],
   "metadata": {
    "collapsed": false
   }
  },
  {
   "cell_type": "markdown",
   "source": [
    "## 3 RSA密钥算法证明"
   ],
   "metadata": {
    "collapsed": false
   }
  },
  {
   "cell_type": "markdown",
   "source": [
    "### 3.1 算法证明"
   ],
   "metadata": {
    "collapsed": false
   }
  },
  {
   "cell_type": "markdown",
   "source": [
    "我们只需要证明，上述公式(3)中对密文应用私钥的过程能够将信息变回原文，即公式(3)成立即可，可以用到的辅助工具有公式(2)和密钥生成的步骤。"
   ],
   "metadata": {
    "collapsed": false
   }
  },
  {
   "cell_type": "markdown",
   "source": [
    "### 3.2 x与n互质的情况"
   ],
   "metadata": {
    "collapsed": false
   }
  },
  {
   "cell_type": "markdown",
   "source": [
    "在x与n互质的情况下，我们需要引入欧拉定理（见补充说明2），证明过程如下：\n",
    "$$\n",
    "\\begin{aligned}\n",
    "y^d \\ mod \\ n \\ &= \\ x^{ed} \\ mod \\ n  \\ \\ \\ \\ \\tag{4.1}\\\\\n",
    "&=\\ x^{km+1} \\ mod \\ n \\ \\ \\ \\ \\tag{4.2}\\\\\n",
    "&=\\ (x^{m} \\ mod \\ n)^k x \\ mod \\ n \\ \\ \\ \\ \\tag{4.3}\\\\\n",
    "&=\\ (x^{\\varphi (n)} \\ mod \\ n)^k x \\ mod \\ n \\ \\ \\ \\ \\tag{4.4}\\\\\n",
    "&=\\ x\\ mod \\ n \\ \\ \\ \\ \\tag{4.5}\\\\\n",
    "\\end{aligned}\n",
    "$$\n",
    "&emsp;&emsp;(4.1) 等式两边同时取 $d$ 次幂，再取模(两次取模相当于一次);\n",
    "&emsp;&emsp;(4.2) 因为 $ed$ 模 $m$ 为1，因此 $ed=km+1$ 其中 $k$ 是任意正整数;\n",
    "&emsp;&emsp;(4.3) 运用乘法结合律，提出一个 $x$ 到括号外边;\n",
    "&emsp;&emsp;(4.4) $m$ 是 $n$ 的欧拉函数;\n",
    "&emsp;&emsp;(4.5) 由于 $x$ 和 $n$ 互素，因此由欧拉定理，有 $x^{\\varphi (n)} \\ mod \\ n\\ =\\ 1$\n",
    "\n",
    "&emsp;&emsp;补充说明2：证明我们此处不详细展开，仅给出欧拉定理的详细内容：假设 $(p,m)=1$ ，则 $p^{\\varphi (m)} \\equiv\\ 1\\ (mod \\ n)$"
   ],
   "metadata": {
    "collapsed": false
   }
  },
  {
   "cell_type": "markdown",
   "source": [
    "### 3.3 x与n不互质的情况"
   ],
   "metadata": {
    "collapsed": false
   }
  },
  {
   "cell_type": "markdown",
   "source": [
    "值得一提的是，x与n不互质的情况下，x不能是n的倍数，因为这样一来会导致密文变为0，导致无法加密。\n",
    "因此我们假设x是p的倍数，x与q互质（另一种情况是同理的），有 $x=tp$ 且 $qx\\ mod\\ n\\ =\\ 0$\n",
    "&emsp;根据欧拉定理，有：\n",
    "$$\n",
    "$x^{\\varphi (q)} \\ mod \\ q\\ =\\ 1$\n",
    "$$\n",
    "&emsp;由于 $ed\\ mod\\ m\\ =\\ 1$ ，令 $ed=km+1=k\\varphi(p)\\varphi(q)+1$ ，因此有：\n",
    "$$\n",
    "$x^{k\\varphi (q)\\varphi(p)} \\ mod \\ q\\ =\\ 1$\n",
    "$$\n",
    "&emsp;令 $x^{k\\varphi (q)\\varphi(p)}=iq+1$ 代入3.2的推导过程有：\n",
    "$$\n",
    "\\begin{aligned}\n",
    "y^d \\ mod \\ n \\ &= \\ x^{ed} \\ mod \\ n  \\ \\ \\ \\ \\tag{5.1}\\\\\n",
    "&=\\ x^{km+1} \\ mod \\ n \\ \\ \\ \\ \\tag{5.2}\\\\\n",
    "&=\\ x^{k\\varphi (q)\\varphi(p)}x \\ mod \\ n \\ \\ \\ \\ \\tag{5.3}\\\\\n",
    "&=\\ (iq+1)x \\ mod \\ n \\ \\ \\ \\ \\tag{5.4}\\\\\n",
    "&=\\ (iqx+x)\\ mod \\ n \\ \\ \\ \\ \\tag{5.5}\\\\\n",
    "&=\\ x\\ mod \\ n \\ \\ \\ \\ \\tag{5.6}\\\\\n",
    "\\end{aligned}\n",
    "$$\n",
    "&emsp;&emsp;(5.5):由于 $qx$ 是 $n$ 的倍数，因此 $iqx$ 可以消去;\n",
    "&emsp;&emsp;其余证明过程与3.2节中类似\n"
   ],
   "metadata": {
    "collapsed": false
   }
  },
  {
   "cell_type": "markdown",
   "source": [
    "### 3.4 安全性证明"
   ],
   "metadata": {
    "collapsed": false
   }
  },
  {
   "cell_type": "markdown",
   "source": [
    "最后我们来看一下RSA算法为什么是安全的，整个算法一共用到了六个数字：\n",
    "$$\n",
    "p,q,n,\\varphi(n),e,d\n",
    "$$\n",
    "对于外界第三方可以获取的信息就只有 $(n,e)$ ,想要知道私钥 $(n,d)$ 就需要通过求 $e$ 对 $\\varphi(n)$ 的逆元，这需要计算 $\\varphi(n)$\n",
    "要想知道 $\\varphi(n)$ 就需要知道 $n$ 的两个素因子 $(p,q)$ 。而前面我们已经知道了这个结论，不存在高效的算法能够快速计算出 $(p,n)$ 。\n",
    "因此整个算法的安全性就得到了保障。"
   ],
   "metadata": {
    "collapsed": false
   }
  },
  {
   "cell_type": "markdown",
   "source": [
    "## 4 RSA密钥算法举例"
   ],
   "metadata": {
    "collapsed": false
   }
  },
  {
   "cell_type": "markdown",
   "source": [
    "下面我们通过一个具体的例子来看一下RSA密钥算法,其中用到了素数生成程序(详见makeprime.py)"
   ],
   "metadata": {
    "collapsed": false
   }
  },
  {
   "cell_type": "code",
   "execution_count": 5,
   "outputs": [
    {
     "ename": "ModuleNotFoundError",
     "evalue": "No module named 'makeprime'",
     "output_type": "error",
     "traceback": [
      "\u001B[1;31m---------------------------------------------------------------------------\u001B[0m",
      "\u001B[1;31mModuleNotFoundError\u001B[0m                       Traceback (most recent call last)",
      "Cell \u001B[1;32mIn[5], line 2\u001B[0m\n\u001B[0;32m      1\u001B[0m \u001B[38;5;28;01mimport\u001B[39;00m \u001B[38;5;21;01mtime\u001B[39;00m\n\u001B[1;32m----> 2\u001B[0m \u001B[38;5;28;01mfrom\u001B[39;00m \u001B[38;5;21;01mmakeprime\u001B[39;00m \u001B[38;5;28;01mimport\u001B[39;00m makeprime\n\u001B[0;32m      4\u001B[0m \u001B[38;5;66;03m#构造字典\u001B[39;00m\n\u001B[0;32m      5\u001B[0m \u001B[38;5;28mdict\u001B[39m \u001B[38;5;241m=\u001B[39m {\u001B[38;5;124m'\u001B[39m\u001B[38;5;124ma\u001B[39m\u001B[38;5;124m'\u001B[39m:\u001B[38;5;124m'\u001B[39m\u001B[38;5;124m31\u001B[39m\u001B[38;5;124m'\u001B[39m,\u001B[38;5;124m'\u001B[39m\u001B[38;5;124mb\u001B[39m\u001B[38;5;124m'\u001B[39m:\u001B[38;5;124m'\u001B[39m\u001B[38;5;124m32\u001B[39m\u001B[38;5;124m'\u001B[39m,\u001B[38;5;124m'\u001B[39m\u001B[38;5;124mc\u001B[39m\u001B[38;5;124m'\u001B[39m:\u001B[38;5;124m'\u001B[39m\u001B[38;5;124m33\u001B[39m\u001B[38;5;124m'\u001B[39m,\u001B[38;5;124m'\u001B[39m\u001B[38;5;124md\u001B[39m\u001B[38;5;124m'\u001B[39m:\u001B[38;5;124m'\u001B[39m\u001B[38;5;124m34\u001B[39m\u001B[38;5;124m'\u001B[39m,\u001B[38;5;124m'\u001B[39m\u001B[38;5;124me\u001B[39m\u001B[38;5;124m'\u001B[39m:\u001B[38;5;124m'\u001B[39m\u001B[38;5;124m35\u001B[39m\u001B[38;5;124m'\u001B[39m,\u001B[38;5;124m'\u001B[39m\u001B[38;5;124mf\u001B[39m\u001B[38;5;124m'\u001B[39m:\u001B[38;5;124m'\u001B[39m\u001B[38;5;124m36\u001B[39m\u001B[38;5;124m'\u001B[39m,\u001B[38;5;124m'\u001B[39m\u001B[38;5;124mg\u001B[39m\u001B[38;5;124m'\u001B[39m:\u001B[38;5;124m'\u001B[39m\u001B[38;5;124m37\u001B[39m\u001B[38;5;124m'\u001B[39m,\n\u001B[0;32m      6\u001B[0m         \u001B[38;5;124m'\u001B[39m\u001B[38;5;124mh\u001B[39m\u001B[38;5;124m'\u001B[39m:\u001B[38;5;124m'\u001B[39m\u001B[38;5;124m38\u001B[39m\u001B[38;5;124m'\u001B[39m,\u001B[38;5;124m'\u001B[39m\u001B[38;5;124mi\u001B[39m\u001B[38;5;124m'\u001B[39m:\u001B[38;5;124m'\u001B[39m\u001B[38;5;124m39\u001B[39m\u001B[38;5;124m'\u001B[39m,\u001B[38;5;124m'\u001B[39m\u001B[38;5;124mj\u001B[39m\u001B[38;5;124m'\u001B[39m:\u001B[38;5;124m'\u001B[39m\u001B[38;5;124m10\u001B[39m\u001B[38;5;124m'\u001B[39m,\u001B[38;5;124m'\u001B[39m\u001B[38;5;124mk\u001B[39m\u001B[38;5;124m'\u001B[39m:\u001B[38;5;124m'\u001B[39m\u001B[38;5;124m11\u001B[39m\u001B[38;5;124m'\u001B[39m,\u001B[38;5;124m'\u001B[39m\u001B[38;5;124ml\u001B[39m\u001B[38;5;124m'\u001B[39m:\u001B[38;5;124m'\u001B[39m\u001B[38;5;124m12\u001B[39m\u001B[38;5;124m'\u001B[39m,\u001B[38;5;124m'\u001B[39m\u001B[38;5;124mm\u001B[39m\u001B[38;5;124m'\u001B[39m:\u001B[38;5;124m'\u001B[39m\u001B[38;5;124m13\u001B[39m\u001B[38;5;124m'\u001B[39m,\u001B[38;5;124m'\u001B[39m\u001B[38;5;124mn\u001B[39m\u001B[38;5;124m'\u001B[39m:\u001B[38;5;124m'\u001B[39m\u001B[38;5;124m14\u001B[39m\u001B[38;5;124m'\u001B[39m,\n\u001B[0;32m      7\u001B[0m         \u001B[38;5;124m'\u001B[39m\u001B[38;5;124mo\u001B[39m\u001B[38;5;124m'\u001B[39m:\u001B[38;5;124m'\u001B[39m\u001B[38;5;124m15\u001B[39m\u001B[38;5;124m'\u001B[39m,\u001B[38;5;124m'\u001B[39m\u001B[38;5;124mp\u001B[39m\u001B[38;5;124m'\u001B[39m:\u001B[38;5;124m'\u001B[39m\u001B[38;5;124m16\u001B[39m\u001B[38;5;124m'\u001B[39m,\u001B[38;5;124m'\u001B[39m\u001B[38;5;124mq\u001B[39m\u001B[38;5;124m'\u001B[39m:\u001B[38;5;124m'\u001B[39m\u001B[38;5;124m17\u001B[39m\u001B[38;5;124m'\u001B[39m,\u001B[38;5;124m'\u001B[39m\u001B[38;5;124mr\u001B[39m\u001B[38;5;124m'\u001B[39m:\u001B[38;5;124m'\u001B[39m\u001B[38;5;124m18\u001B[39m\u001B[38;5;124m'\u001B[39m,\u001B[38;5;124m'\u001B[39m\u001B[38;5;124ms\u001B[39m\u001B[38;5;124m'\u001B[39m:\u001B[38;5;124m'\u001B[39m\u001B[38;5;124m19\u001B[39m\u001B[38;5;124m'\u001B[39m,\u001B[38;5;124m'\u001B[39m\u001B[38;5;124mt\u001B[39m\u001B[38;5;124m'\u001B[39m:\u001B[38;5;124m'\u001B[39m\u001B[38;5;124m20\u001B[39m\u001B[38;5;124m'\u001B[39m,\u001B[38;5;124m'\u001B[39m\u001B[38;5;124mu\u001B[39m\u001B[38;5;124m'\u001B[39m:\u001B[38;5;124m'\u001B[39m\u001B[38;5;124m21\u001B[39m\u001B[38;5;124m'\u001B[39m,\n\u001B[0;32m      8\u001B[0m         \u001B[38;5;124m'\u001B[39m\u001B[38;5;124mv\u001B[39m\u001B[38;5;124m'\u001B[39m:\u001B[38;5;124m'\u001B[39m\u001B[38;5;124m22\u001B[39m\u001B[38;5;124m'\u001B[39m,\u001B[38;5;124m'\u001B[39m\u001B[38;5;124mw\u001B[39m\u001B[38;5;124m'\u001B[39m:\u001B[38;5;124m'\u001B[39m\u001B[38;5;124m23\u001B[39m\u001B[38;5;124m'\u001B[39m,\u001B[38;5;124m'\u001B[39m\u001B[38;5;124mx\u001B[39m\u001B[38;5;124m'\u001B[39m:\u001B[38;5;124m'\u001B[39m\u001B[38;5;124m24\u001B[39m\u001B[38;5;124m'\u001B[39m,\u001B[38;5;124m'\u001B[39m\u001B[38;5;124my\u001B[39m\u001B[38;5;124m'\u001B[39m:\u001B[38;5;124m'\u001B[39m\u001B[38;5;124m25\u001B[39m\u001B[38;5;124m'\u001B[39m,\u001B[38;5;124m'\u001B[39m\u001B[38;5;124mz\u001B[39m\u001B[38;5;124m'\u001B[39m:\u001B[38;5;124m'\u001B[39m\u001B[38;5;124m26\u001B[39m\u001B[38;5;124m'\u001B[39m,\u001B[38;5;124m'\u001B[39m\u001B[38;5;124m1\u001B[39m\u001B[38;5;124m'\u001B[39m:\u001B[38;5;124m'\u001B[39m\u001B[38;5;124m41\u001B[39m\u001B[38;5;124m'\u001B[39m,\u001B[38;5;124m'\u001B[39m\u001B[38;5;124m2\u001B[39m\u001B[38;5;124m'\u001B[39m:\u001B[38;5;124m'\u001B[39m\u001B[38;5;124m42\u001B[39m\u001B[38;5;124m'\u001B[39m,\n\u001B[0;32m      9\u001B[0m         \u001B[38;5;124m'\u001B[39m\u001B[38;5;124m3\u001B[39m\u001B[38;5;124m'\u001B[39m:\u001B[38;5;124m'\u001B[39m\u001B[38;5;124m43\u001B[39m\u001B[38;5;124m'\u001B[39m,\u001B[38;5;124m'\u001B[39m\u001B[38;5;124m4\u001B[39m\u001B[38;5;124m'\u001B[39m:\u001B[38;5;124m'\u001B[39m\u001B[38;5;124m44\u001B[39m\u001B[38;5;124m'\u001B[39m,\u001B[38;5;124m'\u001B[39m\u001B[38;5;124m5\u001B[39m\u001B[38;5;124m'\u001B[39m:\u001B[38;5;124m'\u001B[39m\u001B[38;5;124m45\u001B[39m\u001B[38;5;124m'\u001B[39m,\u001B[38;5;124m'\u001B[39m\u001B[38;5;124m6\u001B[39m\u001B[38;5;124m'\u001B[39m:\u001B[38;5;124m'\u001B[39m\u001B[38;5;124m46\u001B[39m\u001B[38;5;124m'\u001B[39m,\u001B[38;5;124m'\u001B[39m\u001B[38;5;124m7\u001B[39m\u001B[38;5;124m'\u001B[39m:\u001B[38;5;124m'\u001B[39m\u001B[38;5;124m47\u001B[39m\u001B[38;5;124m'\u001B[39m,\u001B[38;5;124m'\u001B[39m\u001B[38;5;124m8\u001B[39m\u001B[38;5;124m'\u001B[39m:\u001B[38;5;124m'\u001B[39m\u001B[38;5;124m48\u001B[39m\u001B[38;5;124m'\u001B[39m,\u001B[38;5;124m'\u001B[39m\u001B[38;5;124m9\u001B[39m\u001B[38;5;124m'\u001B[39m:\u001B[38;5;124m'\u001B[39m\u001B[38;5;124m49\u001B[39m\u001B[38;5;124m'\u001B[39m,\n\u001B[0;32m     10\u001B[0m         \u001B[38;5;124m'\u001B[39m\u001B[38;5;124m0\u001B[39m\u001B[38;5;124m'\u001B[39m:\u001B[38;5;124m'\u001B[39m\u001B[38;5;124m40\u001B[39m\u001B[38;5;124m'\u001B[39m,\u001B[38;5;124m'\u001B[39m\u001B[38;5;124m \u001B[39m\u001B[38;5;124m'\u001B[39m:\u001B[38;5;124m'\u001B[39m\u001B[38;5;124m50\u001B[39m\u001B[38;5;124m'\u001B[39m}\n",
      "\u001B[1;31mModuleNotFoundError\u001B[0m: No module named 'makeprime'"
     ]
    }
   ],
   "source": [
    "import time\n",
    "import sys\n",
    "sys.path.append()\n",
    "from makeprime import makeprime\n",
    "\n",
    "#构造字典\n",
    "dict = {'a':'31','b':'32','c':'33','d':'34','e':'35','f':'36','g':'37',\n",
    "        'h':'38','i':'39','j':'10','k':'11','l':'12','m':'13','n':'14',\n",
    "        'o':'15','p':'16','q':'17','r':'18','s':'19','t':'20','u':'21',\n",
    "        'v':'22','w':'23','x':'24','y':'25','z':'26','1':'41','2':'42',\n",
    "        '3':'43','4':'44','5':'45','6':'46','7':'47','8':'48','9':'49',\n",
    "        '0':'40',' ':'50'}\n",
    "\n",
    "#字符与数字之间的映射转换\n",
    "def transferToNum(str):\n",
    "    m = \"\"\n",
    "    for d in str:\n",
    "        m += dict[d]\n",
    "    return m\n",
    "\n",
    "def transferTostr(num):\n",
    "    n = \"\"\n",
    "    for i in range(0,len(num),2):\n",
    "       n += {value:key for key,value in dict.items()}[num[i]+num[i+1]]\n",
    "    return n\n",
    "\n",
    "'''\n",
    "扩展欧几里德算法\n",
    "计算 ax + by = 1中的x与y的整数解（a与b互质）\n",
    "'''\n",
    "def ext_gcd(a, b):\n",
    "    if b == 0:\n",
    "        x1 = 1\n",
    "        y1 = 0\n",
    "        x = x1\n",
    "        y = y1\n",
    "        r = a\n",
    "        return r, x, y\n",
    "    else:\n",
    "        r, x1, y1 = ext_gcd(b, a % b)\n",
    "        x = y1\n",
    "        y = x1 - a // b * y1\n",
    "        return r, x, y\n",
    "\n",
    "'''\n",
    "超大整数超大次幂然后对超大的整数取模\n",
    "(base ^ exponent) mod n\n",
    "'''\n",
    "def exp_mode(base, exponent, n):\n",
    "    bin_array = bin(exponent)[2:][::-1]\n",
    "    r = len(bin_array)\n",
    "    base_array = []\n",
    "\n",
    "    pre_base = base\n",
    "    base_array.append(pre_base)\n",
    "\n",
    "    for _ in range(r - 1):\n",
    "        next_base = (pre_base * pre_base) % n\n",
    "        base_array.append(next_base)\n",
    "        pre_base = next_base\n",
    "\n",
    "    a_w_b = __multi(base_array, bin_array, n)\n",
    "    return a_w_b % n\n",
    "\n",
    "def __multi(array, bin_array, n):\n",
    "    result = 1\n",
    "    for index in range(len(array)):\n",
    "        a = array[index]\n",
    "        if not int(bin_array[index]):\n",
    "            continue\n",
    "        result *= a\n",
    "        result = result % n # 加快连乘的速度\n",
    "    return result\n",
    "\n",
    "# 生成公钥私钥，p、q为两个超大质数\n",
    "def gen_key(p, q):\n",
    "    n = p * q\n",
    "    fy = (p - 1) * (q - 1)      # 计算与n互质的整数个数 欧拉函数\n",
    "    e = 65537                    # 选取e 65537\n",
    "    a = e\n",
    "    b = fy\n",
    "    x = ext_gcd(a, b)[1]\n",
    "\n",
    "    if x < 0:\n",
    "        d = x + fy\n",
    "    else:\n",
    "        d = x\n",
    "    print(\"公钥:\"+\"(\"+str(n)+\",\"+str(e)+\")\\n私钥:\"+\"(\"+str(n)+\",\"+str(d)+\")\")\n",
    "    return    (n, e), (n, d)\n",
    "\n",
    "# 加密 m是被加密的信息 加密成为c\n",
    "def encrypt(m, pubkey):\n",
    "    n = pubkey[0]\n",
    "    e = pubkey[1]\n",
    "\n",
    "    c = exp_mode(m, e, n)\n",
    "    return c\n",
    "\n",
    "# 解密 c是密文，解密为明文m\n",
    "def decrypt(c, selfkey):\n",
    "    n = selfkey[0]\n",
    "    d = selfkey[1]\n",
    "\n",
    "    m = exp_mode(c, d, n)\n",
    "    return m\n",
    "\n",
    "\n",
    "if __name__ == \"__main__\":\n",
    "\n",
    "    print(\"1.生成>64位的质数p和q(以528位为例):\")\n",
    "    p = makeprime(528)\n",
    "    print(\"p:\",p)\n",
    "    q = makeprime(528)\n",
    "    print(\"q:\",q)\n",
    "\n",
    "    print(\"2.生成公钥私钥\")\n",
    "    pubkey, selfkey = gen_key(p, q)\n",
    "\n",
    "    print(\"3.输入明文(小写英文与数字的组合[因为只构造了这两者的字典])\")\n",
    "    plaintext = str(input())\n",
    "    m = int(transferToNum(plaintext))\n",
    "\n",
    "    print(\"4.用公钥加密信息\")\n",
    "    c = encrypt(m, pubkey)\n",
    "    print(\"密文:\",c)\n",
    "\n",
    "    print(\"5.用私钥解密\")\n",
    "    d = decrypt(c, selfkey)\n",
    "    print(\"明文:\",transferTostr(str(d)))\n",
    "\n"
   ],
   "metadata": {
    "collapsed": false
   }
  },
  {
   "cell_type": "code",
   "execution_count": null,
   "outputs": [],
   "source": [],
   "metadata": {
    "collapsed": false
   }
  }
 ],
 "metadata": {
  "kernelspec": {
   "display_name": "Python 3",
   "language": "python",
   "name": "python3"
  },
  "language_info": {
   "codemirror_mode": {
    "name": "ipython",
    "version": 2
   },
   "file_extension": ".py",
   "mimetype": "text/x-python",
   "name": "python",
   "nbconvert_exporter": "python",
   "pygments_lexer": "ipython2",
   "version": "2.7.6"
  }
 },
 "nbformat": 4,
 "nbformat_minor": 0
}
